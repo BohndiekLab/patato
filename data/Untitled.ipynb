{
 "cells": [
  {
   "cell_type": "code",
   "execution_count": 15,
   "id": "039d82a1-a8b2-4871-bf0a-18fed2b74fc9",
   "metadata": {},
   "outputs": [],
   "source": [
    "from shapely.geometry import Polygon, Point\n",
    "import numpy as np\n",
    "import matplotlib.pyplot as plt"
   ]
  },
  {
   "cell_type": "code",
   "execution_count": 78,
   "id": "4ad76fa8-b14f-470c-b98a-5741fb419ce1",
   "metadata": {},
   "outputs": [],
   "source": [
    "p = Polygon(np.array([[-1, 1], [-1, -1], [1, -1], [1, 1]])*4)\n",
    "p2 = Polygon(np.array([[-1, 1], [-1, -1], [1, -1], [1, 1]]))\n",
    "p = p - p2\n",
    "X, Y = np.meshgrid(np.linspace(-10, 10, 100), np.linspace(-10,10,100))\n",
    "rs = np.array([X.flatten(), Y.flatten()]).T\n",
    "rs = np.array([p.contains(Point(r)) for r in rs]).reshape(X.shape)"
   ]
  },
  {
   "cell_type": "code",
   "execution_count": 79,
   "id": "ee3c232a-0e73-46e0-88d4-f6e7a3688f01",
   "metadata": {},
   "outputs": [
    {
     "data": {
      "image/png": "[encoded data removed]",
      "text/plain": [
       "<Figure size 432x288 with 1 Axes>"
      ]
     },
     "metadata": {
      "needs_background": "light"
     },
     "output_type": "display_data"
    }
   ],
   "source": [
    "plt.imshow(rs)\n",
    "plt.show()"
   ]
  },
  {
   "cell_type": "code",
   "execution_count": 82,
   "id": "f058c939-dcce-4800-8ef4-2d2d0a993edf",
   "metadata": {},
   "outputs": [
    {
     "data": {
      "image/svg+xml": [
       "<svg xmlns=\"http://www.w3.org/2000/svg\" xmlns:xlink=\"http://www.w3.org/1999/xlink\" width=\"100.0\" height=\"100.0\" viewBox=\"-4.32 -4.32 8.64 8.64\" preserveAspectRatio=\"xMinYMin meet\"><g transform=\"matrix(1,0,0,-1,0,0.0)\"><g><polyline fill=\"none\" stroke=\"#66cc99\" stroke-width=\"0.1728\" points=\"4.0,4.0 4.0,-4.0 -4.0,-4.0 -4.0,4.0 4.0,4.0\" opacity=\"0.8\" /><polyline fill=\"none\" stroke=\"#66cc99\" stroke-width=\"0.1728\" points=\"-1.0,-1.0 1.0,-1.0 1.0,1.0 -1.0,1.0 -1.0,-1.0\" opacity=\"0.8\" /></g></g></svg>"
      ],
      "text/plain": [
       "<shapely.geometry.multilinestring.MultiLineString at 0x1718296ba60>"
      ]
     },
     "execution_count": 82,
     "metadata": {},
     "output_type": "execute_result"
    }
   ],
   "source": [
    "p.boundary."
   ]
  },
  {
   "cell_type": "code",
   "execution_count": null,
   "id": "eab20977-1064-4ad0-b7f9-38b5c089073e",
   "metadata": {},
   "outputs": [],
   "source": [
    "im"
   ]
  }
 ],
 "metadata": {
  "kernelspec": {
   "display_name": "Python 3 (ipykernel)",
   "language": "python",
   "name": "python3"
  },
  "language_info": {
   "codemirror_mode": {
    "name": "ipython",
    "version": 3
   },
   "file_extension": ".py",
   "mimetype": "text/x-python",
   "name": "python",
   "nbconvert_exporter": "python",
   "pygments_lexer": "ipython3",
   "version": "3.8.12"
  },
  "widgets": {
   "application/vnd.jupyter.widget-state+json": {
    "state": {},
    "version_major": 2,
    "version_minor": 0
   }
  }
 },
 "nbformat": 4,
 "nbformat_minor": 5
}
