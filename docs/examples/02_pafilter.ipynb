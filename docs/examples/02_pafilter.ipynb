{
 "cells": [
  {
   "cell_type": "markdown",
   "id": "769d7b73-0df9-4657-8e5e-047b53e1a13b",
   "metadata": {},
   "source": [
    "# 2. Comparing image reconstruction methods"
   ]
  },
  {
   "cell_type": "markdown",
   "id": "a3f90696-a7c4-4a18-bb58-6233c12021f2",
   "metadata": {},
   "source": [
    "In this section, we will compare several different image reconstruction methods. Several different methods are available in photoacoustic imaging. Each differs in its complexity, speed and physical basis.\n",
    "\n",
    "PATATO includes two algorithms for image reconstruction, backprojection and a model-based method. Here we will compare the two. "
   ]
  },
  {
   "cell_type": "code",
   "execution_count": 1,
   "id": "1840c918-a354-4ff9-b289-97559f6809ea",
   "metadata": {},
   "outputs": [],
   "source": [
    "import matplotlib.pyplot as plt\n",
    "\n",
    "import numpy as np\n",
    "import patato as pat\n",
    "from patato.data import get_msot_time_series_example\n",
    "import timeit"
   ]
  },
  {
   "cell_type": "markdown",
   "id": "b8b9aff3-72eb-4b3f-b344-bd84df82b793",
   "metadata": {},
   "source": [
    "As an example dataset, we will use a dataset taken from a small-animal photoacoustic scanner (iThera inVision 256-TF, iThera Medical GmbH). We scanned a single slice through a tumour-bearing mouse."
   ]
  },
  {
   "cell_type": "code",
   "execution_count": 2,
   "id": "da4d80ea-d5d4-4fbd-bed7-93cd0ff7f792",
   "metadata": {},
   "outputs": [],
   "source": [
    "pa_data = get_msot_time_series_example(\"so2\")[0:1]"
   ]
  },
  {
   "cell_type": "markdown",
   "id": "37f89a98-e79d-4ef5-bb15-73078124fce0",
   "metadata": {},
   "source": [
    "First we will define a reconstruction grid to directly compare the reconstruction results."
   ]
  },
  {
   "cell_type": "code",
   "execution_count": 3,
   "id": "8ae9b7eb-26c0-4f5e-bd30-549603f84a1b",
   "metadata": {},
   "outputs": [],
   "source": [
    "# Define the reconstruction methods to compare:\n",
    "nx = 101 # number of pixels\n",
    "lx = 2.5e-2 # m"
   ]
  },
  {
   "cell_type": "markdown",
   "id": "eade1974-a6ef-4a1f-ad0a-ae5f8e1886ae",
   "metadata": {},
   "source": [
    "We will then set up our backprojection reconstruction pipeline."
   ]
  },
  {
   "cell_type": "code",
   "execution_count": 4,
   "id": "9fd2d14c-36d7-487a-9d89-961c856eb90c",
   "metadata": {},
   "outputs": [],
   "source": [
    "# Define a pre-processor for backprojection\n",
    "pre_bp = pat.MSOTPreProcessor(lp_filter=7e6, hp_filter=5e3)\n",
    "\n",
    "ts_bp, settings_bp, _ = pre_bp.run(pa_data.get_time_series(), pa_data)\n",
    "\n",
    "\n",
    "# Delay and sum.\n",
    "das = pat.Backprojection(field_of_view=(lx, lx, 0), \n",
    "                             n_pixels=(nx, nx, 1)) # z axis must be specified but is empty in this case."
   ]
  },
  {
   "cell_type": "markdown",
   "id": "1f105ce1-8033-4c14-9240-1be2da01c7f3",
   "metadata": {},
   "source": [
    "Next, we define out model-based reconstruction pipeline. Here, the program pre-calculates the forward acoustic model matrix, which is then applied in the following step. "
   ]
  },
  {
   "cell_type": "code",
   "execution_count": 5,
   "id": "d6b05d69-eb17-4373-b795-a1ea72791b7e",
   "metadata": {},
   "outputs": [
    {
     "name": "stdout",
     "output_type": "stream",
     "text": [
      "GPU False\n",
      "Loading model\n"
     ]
    },
    {
     "data": {
      "application/vnd.jupyter.widget-view+json": {
       "model_id": "fff804f057e54d03a6bf9df94933e6ce",
       "version_major": 2,
       "version_minor": 0
      },
      "text/plain": [
       "  0%|          | 0/256 [00:00<?, ?it/s]"
      ]
     },
     "metadata": {},
     "output_type": "display_data"
    },
    {
     "ename": "TypeError",
     "evalue": "__init__() got multiple values for argument 'dims'",
     "output_type": "error",
     "traceback": [
      "\u001B[0;31m---------------------------------------------------------------------------\u001B[0m",
      "\u001B[0;31mTypeError\u001B[0m                                 Traceback (most recent call last)",
      "Cell \u001B[0;32mIn[5], line 5\u001B[0m\n\u001B[1;32m      2\u001B[0m ts_model_based \u001B[38;5;241m=\u001B[39m pa_data\u001B[38;5;241m.\u001B[39mget_time_series()\u001B[38;5;241m.\u001B[39mcopy()\n\u001B[1;32m      3\u001B[0m ts_model_based\u001B[38;5;241m.\u001B[39mraw_data \u001B[38;5;241m=\u001B[39m ts_model_based\u001B[38;5;241m.\u001B[39mraw_data \u001B[38;5;241m/\u001B[39m pa_data\u001B[38;5;241m.\u001B[39mget_overall_correction_factor()[:, :, \u001B[38;5;28;01mNone\u001B[39;00m, \u001B[38;5;28;01mNone\u001B[39;00m]\n\u001B[0;32m----> 5\u001B[0m model_based \u001B[38;5;241m=\u001B[39m \u001B[43mpat\u001B[49m\u001B[38;5;241;43m.\u001B[39;49m\u001B[43mModelBasedReconstruction\u001B[49m\u001B[43m(\u001B[49m\u001B[43mfield_of_view\u001B[49m\u001B[38;5;241;43m=\u001B[39;49m\u001B[43m(\u001B[49m\u001B[43mlx\u001B[49m\u001B[43m,\u001B[49m\u001B[43m \u001B[49m\u001B[43mlx\u001B[49m\u001B[43m,\u001B[49m\u001B[43m \u001B[49m\u001B[38;5;241;43m0\u001B[39;49m\u001B[43m)\u001B[49m\u001B[43m,\u001B[49m\u001B[43m \u001B[49m\n\u001B[1;32m      6\u001B[0m \u001B[43m                                           \u001B[49m\u001B[43mn_pixels\u001B[49m\u001B[38;5;241;43m=\u001B[39;49m\u001B[43m(\u001B[49m\u001B[43mnx\u001B[49m\u001B[43m,\u001B[49m\u001B[43m \u001B[49m\u001B[43mnx\u001B[49m\u001B[43m,\u001B[49m\u001B[43m \u001B[49m\u001B[38;5;241;43m1\u001B[39;49m\u001B[43m)\u001B[49m\u001B[43m,\u001B[49m\u001B[43m \u001B[49m\u001B[43mpa_example\u001B[49m\u001B[38;5;241;43m=\u001B[39;49m\u001B[43mpa_data\u001B[49m\u001B[43m)\u001B[49m\n",
      "File \u001B[0;32m~/Documents/Code Development/patato/patato/recon/model_based/model_based.py:209\u001B[0m, in \u001B[0;36mModelBasedReconstruction.__init__\u001B[0;34m(self, n_pixels, field_of_view, kwargs_model, pa_example, **kwargs)\u001B[0m\n\u001B[1;32m    206\u001B[0m     \u001B[38;5;28mprint\u001B[39m(\u001B[38;5;124m\"\u001B[39m\u001B[38;5;124mGPU\u001B[39m\u001B[38;5;124m\"\u001B[39m, gpu)\n\u001B[1;32m    207\u001B[0m     cache \u001B[38;5;241m=\u001B[39m kwargs\u001B[38;5;241m.\u001B[39mget(\u001B[38;5;124m\"\u001B[39m\u001B[38;5;124mcache\u001B[39m\u001B[38;5;124m\"\u001B[39m, \u001B[38;5;28;01mFalse\u001B[39;00m)\n\u001B[0;32m--> 209\u001B[0m     \u001B[38;5;28mself\u001B[39m\u001B[38;5;241m.\u001B[39m_model \u001B[38;5;241m=\u001B[39m \u001B[38;5;28;43mself\u001B[39;49m\u001B[38;5;241;43m.\u001B[39;49m\u001B[43mgenerate_model\u001B[49m\u001B[43m(\u001B[49m\u001B[43mdetx\u001B[49m\u001B[43m,\u001B[49m\u001B[43m \u001B[49m\u001B[43mdety\u001B[49m\u001B[43m,\u001B[49m\u001B[43m \u001B[49m\u001B[43mfs\u001B[49m\u001B[43m,\u001B[49m\u001B[43m \u001B[49m\u001B[43mdx\u001B[49m\u001B[43m,\u001B[49m\u001B[43m \u001B[49m\u001B[43mnx\u001B[49m\u001B[43m,\u001B[49m\u001B[43m \u001B[49m\u001B[43mx_0\u001B[49m\u001B[43m,\u001B[49m\u001B[43m \u001B[49m\u001B[43mnt\u001B[49m\u001B[43m,\u001B[49m\u001B[43m \u001B[49m\u001B[43mgpu\u001B[49m\u001B[38;5;241;43m=\u001B[39;49m\u001B[43mgpu\u001B[49m\u001B[43m,\u001B[49m\u001B[43m \u001B[49m\u001B[43mcache\u001B[49m\u001B[38;5;241;43m=\u001B[39;49m\u001B[43mcache\u001B[49m\u001B[43m,\u001B[49m\u001B[43m \u001B[49m\u001B[38;5;241;43m*\u001B[39;49m\u001B[38;5;241;43m*\u001B[39;49m\u001B[43mkwargs_model\u001B[49m\u001B[43m)\u001B[49m\n\u001B[1;32m    210\u001B[0m \u001B[38;5;28;01melse\u001B[39;00m:\n\u001B[1;32m    211\u001B[0m     \u001B[38;5;28mself\u001B[39m\u001B[38;5;241m.\u001B[39m_fs \u001B[38;5;241m=\u001B[39m \u001B[38;5;28;01mNone\u001B[39;00m\n",
      "File \u001B[0;32m~/Documents/Code Development/patato/patato/recon/model_based/model_based.py:89\u001B[0m, in \u001B[0;36mModelBasedReconstruction.generate_model\u001B[0;34m(self, detx, dety, fs, dx, nx, x_0, nt, gpu, cache, **kwargs)\u001B[0m\n\u001B[1;32m     87\u001B[0m ndet \u001B[38;5;241m=\u001B[39m detx\u001B[38;5;241m.\u001B[39mshape[\u001B[38;5;241m0\u001B[39m]\n\u001B[1;32m     88\u001B[0m \u001B[38;5;28;01mif\u001B[39;00m irf \u001B[38;5;129;01mis\u001B[39;00m \u001B[38;5;129;01mnot\u001B[39;00m \u001B[38;5;28;01mNone\u001B[39;00m:\n\u001B[0;32m---> 89\u001B[0m     convolve_irf \u001B[38;5;241m=\u001B[39m \u001B[43mConvolve1D\u001B[49m\u001B[43m(\u001B[49m\u001B[43mnt\u001B[49m\u001B[43m \u001B[49m\u001B[38;5;241;43m*\u001B[39;49m\u001B[43m \u001B[49m\u001B[43mndet\u001B[49m\u001B[43m,\u001B[49m\u001B[43m \u001B[49m\u001B[43mirf\u001B[49m\u001B[43m,\u001B[49m\u001B[43m \u001B[49m\u001B[43mdims\u001B[49m\u001B[38;5;241;43m=\u001B[39;49m\u001B[43m(\u001B[49m\u001B[43mndet\u001B[49m\u001B[43m,\u001B[49m\u001B[43m \u001B[49m\u001B[43mnt\u001B[49m\u001B[43m)\u001B[49m\u001B[43m,\u001B[49m\u001B[43m \u001B[49m\u001B[38;5;28;43mdir\u001B[39;49m\u001B[38;5;241;43m=\u001B[39;49m\u001B[38;5;241;43m1\u001B[39;49m\u001B[43m,\u001B[49m\u001B[43m \u001B[49m\u001B[43moffset\u001B[49m\u001B[38;5;241;43m=\u001B[39;49m\u001B[43mnt\u001B[49m\u001B[43m \u001B[49m\u001B[38;5;241;43m/\u001B[39;49m\u001B[38;5;241;43m/\u001B[39;49m\u001B[43m \u001B[49m\u001B[38;5;241;43m2\u001B[39;49m\u001B[43m,\u001B[49m\n\u001B[1;32m     90\u001B[0m \u001B[43m                              \u001B[49m\u001B[43mdtype\u001B[49m\u001B[38;5;241;43m=\u001B[39;49m\u001B[43mnp\u001B[49m\u001B[38;5;241;43m.\u001B[39;49m\u001B[43mfloat32\u001B[49m\u001B[43m)\u001B[49m\n\u001B[1;32m     92\u001B[0m     \u001B[38;5;28;01mdef\u001B[39;00m \u001B[38;5;21mmatvec\u001B[39m(x):\n\u001B[1;32m     93\u001B[0m         \u001B[38;5;28;01mreturn\u001B[39;00m convolve_irf \u001B[38;5;241m@\u001B[39m (model_matrix \u001B[38;5;241m@\u001B[39m x)\n",
      "\u001B[0;31mTypeError\u001B[0m: __init__() got multiple values for argument 'dims'"
     ]
    }
   ],
   "source": [
    "# Apply energy correction to time series data for Model Based reconstruction:\n",
    "ts_model_based = pa_data.get_time_series().copy()\n",
    "ts_model_based.raw_data = ts_model_based.raw_data / pa_data.get_overall_correction_factor()[:, :, None, None]\n",
    "\n",
    "model_based = pat.ModelBasedReconstruction(field_of_view=(lx, lx, 0), \n",
    "                                           n_pixels=(nx, nx, 1), pa_example=pa_data)"
   ]
  },
  {
   "cell_type": "markdown",
   "id": "b6c28645-553b-4041-88c0-d3cbafc782fe",
   "metadata": {},
   "source": [
    "Now, do the image reconstruction."
   ]
  },
  {
   "cell_type": "code",
   "execution_count": null,
   "id": "adad2cd5-9cae-43dc-80af-0ce6f00a1bb1",
   "metadata": {},
   "outputs": [],
   "source": [
    "rec_backprojection, _, _ = das.run(ts_bp, pa_data, **settings_bp)\n",
    "rec_modelbased, _, _ = model_based.run(ts_model_based, pa_data)"
   ]
  },
  {
   "cell_type": "code",
   "execution_count": null,
   "id": "6fce92a9-4aa7-4123-86c4-179bf5beaa77",
   "metadata": {},
   "outputs": [],
   "source": [
    "fig, axes = plt.subplots(1, 2)\n",
    "rec_modelbased.imshow(ax = axes[0])\n",
    "axes[0].set_title(\"Model based\")\n",
    "rec_backprojection.imshow(ax = axes[1])\n",
    "axes[1].set_title(\"Backprojection\")\n",
    "plt.show()"
   ]
  },
  {
   "cell_type": "code",
   "execution_count": null,
   "id": "237c6bbc-3079-41fc-afde-221fa8fd9cb6",
   "metadata": {},
   "outputs": [],
   "source": []
  }
 ],
 "metadata": {
  "kernelspec": {
   "display_name": "Python 3 (ipykernel)",
   "language": "python",
   "name": "python3"
  },
  "language_info": {
   "codemirror_mode": {
    "name": "ipython",
    "version": 3
   },
   "file_extension": ".py",
   "mimetype": "text/x-python",
   "name": "python",
   "nbconvert_exporter": "python",
   "pygments_lexer": "ipython3",
   "version": "3.9.15"
  }
 },
 "nbformat": 4,
 "nbformat_minor": 5
}
