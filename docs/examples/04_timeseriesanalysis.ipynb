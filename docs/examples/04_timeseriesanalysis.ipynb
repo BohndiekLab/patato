{
 "cells": [
  {
   "cell_type": "markdown",
   "id": "a6f0cd6f-5bb3-4afd-9057-736b892fc1f5",
   "metadata": {},
   "source": [
    "# 4: Time-Series MSOT Data Analysis"
   ]
  },
  {
   "cell_type": "code",
   "execution_count": null,
   "id": "7ecd542e-0aad-458d-8b3d-953cedfc1b29",
   "metadata": {},
   "outputs": [],
   "source": [
    "import patato as pat\n",
    "from patato.data import get_msot_time_series_example\n",
    "import matplotlib.pyplot as plt\n",
    "import numpy as np"
   ]
  },
  {
   "cell_type": "code",
   "execution_count": null,
   "id": "27d7f472-40d0-4e2f-a07c-d08743362207",
   "metadata": {},
   "outputs": [],
   "source": [
    "pa = get_msot_time_series_example()"
   ]
  },
  {
   "cell_type": "code",
   "execution_count": null,
   "id": "19a63fee-13e1-4236-968a-3ba1525fe638",
   "metadata": {},
   "outputs": [],
   "source": [
    "pa.set_default_recon(\"Reference Backprojection\")"
   ]
  },
  {
   "cell_type": "code",
   "execution_count": null,
   "id": "2dd75295-7d29-4015-93e5-27d1d5f35864",
   "metadata": {},
   "outputs": [],
   "source": [
    "pa.get_scan_reconstructions().imshow()"
   ]
  },
  {
   "cell_type": "code",
   "execution_count": null,
   "id": "1fe1c7ef-5975-427e-b4b6-528b0bc49cb2",
   "metadata": {},
   "outputs": [],
   "source": []
  }
 ],
 "metadata": {
  "kernelspec": {
   "display_name": "Python 3 (ipykernel)",
   "language": "python",
   "name": "python3"
  },
  "language_info": {
   "codemirror_mode": {
    "name": "ipython",
    "version": 3
   },
   "file_extension": ".py",
   "mimetype": "text/x-python",
   "name": "python",
   "nbconvert_exporter": "python",
   "pygments_lexer": "ipython3",
   "version": "3.9.15"
  }
 },
 "nbformat": 4,
 "nbformat_minor": 5
}
