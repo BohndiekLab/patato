{
 "cells": [
  {
   "cell_type": "markdown",
   "id": "a6f0cd6f-5bb3-4afd-9057-736b892fc1f5",
   "metadata": {},
   "source": [
    "# 4: Time-Series MSOT Data Analysis"
   ]
  },
  {
   "cell_type": "code",
   "execution_count": null,
   "id": "7ecd542e-0aad-458d-8b3d-953cedfc1b29",
   "metadata": {},
   "outputs": [],
   "source": []
  }
 ],
 "metadata": {
  "kernelspec": {
   "display_name": "Python 3 (ipykernel)",
   "language": "python",
   "name": "python3"
  },
  "language_info": {
   "codemirror_mode": {
    "name": "ipython",
    "version": 3
   },
   "file_extension": ".py",
   "mimetype": "text/x-python",
   "name": "python",
   "nbconvert_exporter": "python",
   "pygments_lexer": "ipython3",
   "version": "3.9.7"
  }
 },
 "nbformat": 4,
 "nbformat_minor": 5
}
