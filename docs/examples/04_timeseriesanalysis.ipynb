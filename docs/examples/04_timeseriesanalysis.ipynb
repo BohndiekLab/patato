{
 "cells": [
  {
   "cell_type": "markdown",
   "id": "a6f0cd6f-5bb3-4afd-9057-736b892fc1f5",
   "metadata": {},
   "source": [
    "# 4: Time-Series MSOT Data Analysis"
   ]
  },
  {
   "cell_type": "code",
   "execution_count": 1,
   "id": "7ecd542e-0aad-458d-8b3d-953cedfc1b29",
   "metadata": {},
   "outputs": [],
   "source": [
    "import patato as pat\n",
    "import patato.data\n",
    "import matplotlib.pyplot as plt\n",
    "import numpy as np"
   ]
  },
  {
   "cell_type": "code",
   "execution_count": 2,
   "id": "27d7f472-40d0-4e2f-a07c-d08743362207",
   "metadata": {},
   "outputs": [
    {
     "ename": "NameError",
     "evalue": "name 'get_msot_time_series_example' is not defined",
     "output_type": "error",
     "traceback": [
      "\u001b[0;31m---------------------------------------------------------------------------\u001b[0m",
      "\u001b[0;31mNameError\u001b[0m                                 Traceback (most recent call last)",
      "Input \u001b[0;32mIn [2]\u001b[0m, in \u001b[0;36m<cell line: 1>\u001b[0;34m()\u001b[0m\n\u001b[0;32m----> 1\u001b[0m pa \u001b[38;5;241m=\u001b[39m \u001b[43mget_msot_time_series_example\u001b[49m()\n",
      "\u001b[0;31mNameError\u001b[0m: name 'get_msot_time_series_example' is not defined"
     ]
    }
   ],
   "source": [
    "pa = get_msot_time_series_example()"
   ]
  },
  {
   "cell_type": "code",
   "execution_count": null,
   "id": "19a63fee-13e1-4236-968a-3ba1525fe638",
   "metadata": {},
   "outputs": [],
   "source": [
    "pa.set_default_recon(\"Reference Backprojection\")"
   ]
  },
  {
   "cell_type": "code",
   "execution_count": 3,
   "id": "cf9e1bcf-ff0a-4600-80f9-24529812cf02",
   "metadata": {},
   "outputs": [
    {
     "data": {
      "text/plain": [
       "'/Users/else01/Documents/Code Development/MSOTAnalysis/src/patato/data/__init__.py'"
      ]
     },
     "execution_count": 3,
     "metadata": {},
     "output_type": "execute_result"
    }
   ],
   "source": [
    "patato.data.__file__"
   ]
  },
  {
   "cell_type": "code",
   "execution_count": null,
   "id": "2dd75295-7d29-4015-93e5-27d1d5f35864",
   "metadata": {},
   "outputs": [],
   "source": []
  }
 ],
 "metadata": {
  "kernelspec": {
   "display_name": "Python 3 (ipykernel)",
   "language": "python",
   "name": "python3"
  },
  "language_info": {
   "codemirror_mode": {
    "name": "ipython",
    "version": 3
   },
   "file_extension": ".py",
   "mimetype": "text/x-python",
   "name": "python",
   "nbconvert_exporter": "python",
   "pygments_lexer": "ipython3",
   "version": "3.8.13"
  }
 },
 "nbformat": 4,
 "nbformat_minor": 5
}
