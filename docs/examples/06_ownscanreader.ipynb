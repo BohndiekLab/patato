{
 "cells": [
  {
   "cell_type": "markdown",
   "id": "c1b68234-1315-417e-89c7-e222d78e2fb5",
   "metadata": {},
   "source": [
    "# 6: Writing your own scan reader"
   ]
  },
  {
   "cell_type": "code",
   "execution_count": null,
   "id": "8f8a2fe0-5580-43aa-88c8-0d5fc67da954",
   "metadata": {},
   "outputs": [],
   "source": []
  }
 ],
 "metadata": {
  "kernelspec": {
   "display_name": "Python 3 (ipykernel)",
   "language": "python",
   "name": "python3"
  },
  "language_info": {
   "codemirror_mode": {
    "name": "ipython",
    "version": 3
   },
   "file_extension": ".py",
   "mimetype": "text/x-python",
   "name": "python",
   "nbconvert_exporter": "python",
   "pygments_lexer": "ipython3",
   "version": "3.9.15"
  }
 },
 "nbformat": 4,
 "nbformat_minor": 5
}
