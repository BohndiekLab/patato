{
 "cells": [
  {
   "cell_type": "markdown",
   "id": "72ba9fb9-395d-4213-b131-0f39bc756a55",
   "metadata": {},
   "source": [
    "# 5: Writing your own reconstruction algorithm"
   ]
  },
  {
   "cell_type": "code",
   "execution_count": null,
   "id": "1fce0247-5902-400a-a1a9-3715e5958eb4",
   "metadata": {},
   "outputs": [],
   "source": []
  }
 ],
 "metadata": {
  "kernelspec": {
   "display_name": "Python 3 (ipykernel)",
   "language": "python",
   "name": "python3"
  },
  "language_info": {
   "codemirror_mode": {
    "name": "ipython",
    "version": 3
   },
   "file_extension": ".py",
   "mimetype": "text/x-python",
   "name": "python",
   "nbconvert_exporter": "python",
   "pygments_lexer": "ipython3",
   "version": "3.9.15"
  }
 },
 "nbformat": 4,
 "nbformat_minor": 5
}
