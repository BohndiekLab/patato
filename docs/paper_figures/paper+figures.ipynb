{
 "cells": [
  {
   "cell_type": "markdown",
   "id": "d34953dd-b259-4e81-9851-a5c026de734c",
   "metadata": {},
   "source": [
    "# PATATO: A Python Photoacoustic Tomography Analysis Toolkit"
   ]
  },
  {
   "cell_type": "code",
   "execution_count": 1,
   "id": "2fc4df08-d811-4168-99c5-43d3f936c235",
   "metadata": {},
   "outputs": [],
   "source": [
    "import patato as pat\n",
    "from patato.data import get_msot_time_series_example, get_msot_phantom_example\n",
    "import matplotlib.pyplot as plt\n",
    "import numpy as np\n",
    "import pandas as pd"
   ]
  },
  {
   "cell_type": "code",
   "execution_count": 2,
   "id": "dba20224-0422-4d75-81e8-f11c657bef9c",
   "metadata": {},
   "outputs": [
    {
     "name": "stderr",
     "output_type": "stream",
     "text": [
      "/home/cri.camres.org/else01/patato/patato/core/image_structures/reconstruction_image.py:43: UserWarning: Old version of PATATO used to generate this data. We recommend to re-run the image reconstruction.\n",
      "  warnings.warn(\"Old version of PATATO used to generate this data. We recommend to re-run the image reconstruction.\")\n",
      "/home/cri.camres.org/else01/patato/patato/core/image_structures/reconstruction_image.py:43: UserWarning: Old version of PATATO used to generate this data. We recommend to re-run the image reconstruction.\n",
      "  warnings.warn(\"Old version of PATATO used to generate this data. We recommend to re-run the image reconstruction.\")\n",
      "/home/cri.camres.org/else01/patato/patato/core/image_structures/reconstruction_image.py:43: UserWarning: Old version of PATATO used to generate this data. We recommend to re-run the image reconstruction.\n",
      "  warnings.warn(\"Old version of PATATO used to generate this data. We recommend to re-run the image reconstruction.\")\n"
     ]
    }
   ],
   "source": [
    "pa_so2 = get_msot_time_series_example(\"so2\")\n",
    "pa_dce = get_msot_time_series_example(\"icg\") # We'll get the ROIs from here.\n",
    "pa_so2.set_default_recon((\"Reference Backprojection\", \"0\"))\n",
    "pa_dce.set_default_recon((\"Reference Backprojection\", \"0\"))\n",
    "pa_dce.default_unmixing_type = \"ICG\"\n",
    "pa_dce.external_roi_interface = pa_so2\n",
    "\n",
    "# Get the oe reconstructions, so2 and delta icgs:\n",
    "rec = pa_so2.get_scan_reconstructions()\n",
    "so2 = pa_so2.get_scan_so2()\n",
    "icg = pa_dce.get_scan_unmixed()[:, 2:] # ICG is the 3rd dataset in the unmixed data.\n",
    "\n",
    "times = pa_so2.get_timestamps()[:, 0]\n",
    "times -= times[0]\n",
    "times /= 60\n",
    "\n",
    "icg_times = pa_dce.get_timestamps()[:, 0]\n",
    "icg_times -= icg_times[0]\n",
    "icg_times /= 60\n",
    "\n",
    "roi_tumour_right = pa_so2.get_rois()[\"tumour_right\", \"0\"]\n",
    "roi_tumour_left = pa_so2.get_rois()[\"tumour_left\", \"0\"]\n",
    "roi_reference = pa_so2.get_rois()[\"reference_\", \"0\"]"
   ]
  },
  {
   "cell_type": "code",
   "execution_count": 3,
   "id": "46d9a223-d979-4ab2-9d4d-51e2d3355f19",
   "metadata": {},
   "outputs": [
    {
     "name": "stderr",
     "output_type": "stream",
     "text": [
      "/home/cri.camres.org/else01/patato/patato/core/image_structures/reconstruction_image.py:43: UserWarning: Old version of PATATO used to generate this data. We recommend to re-run the image reconstruction.\n",
      "  warnings.warn(\"Old version of PATATO used to generate this data. We recommend to re-run the image reconstruction.\")\n"
     ]
    }
   ],
   "source": [
    "def get_trace(time_series_data, region, filter_bad=False):\n",
    "    mask, _ = region.to_mask_slice(time_series_data)\n",
    "    timeseries = time_series_data.raw_data.T[mask.T].T[:, 0, :]\n",
    "    # Unmixed SO2 can be out of the interval [0, 1] when there is low SNR.\n",
    "    if filter_bad:\n",
    "        timeseries[(timeseries>1) | (timeseries<0)] = np.nan\n",
    "    return np.nanmean(timeseries, axis=-1)\n",
    "\n",
    "def get_pixel_values(delta_values, region, filter_bad=False):\n",
    "    mask, _ = region.to_mask_slice(delta_values)\n",
    "    delta = delta_values.raw_data.T[mask.T].T\n",
    "\n",
    "    if filter_bad:\n",
    "        delta[(delta>0.1) | (delta<-0.1)] = np.nan\n",
    "    return delta\n",
    "\n",
    "gca = pat.GasChallengeAnalyser(display_output=False)\n",
    "dso2, _, (baseline_so2, baseline_sigma_so2) = gca.run(so2, pa_so2)\n",
    "\n",
    "dce = pat.DCEAnalyser(display_output=False)\n",
    "dicg, _, [baseline_icg, baseline_sigma_icg] = dce.run(pa_dce.get_scan_unmixed(), pa_dce)"
   ]
  },
  {
   "cell_type": "code",
   "execution_count": 4,
   "id": "4f12f7c5-72d4-49cf-9f21-067764ca93c1",
   "metadata": {},
   "outputs": [
    {
     "data": {
      "text/plain": [
       "array([700., 730., 750., 760., 770., 800., 820., 840., 850., 880.])"
      ]
     },
     "execution_count": 4,
     "metadata": {},
     "output_type": "execute_result"
    }
   ],
   "source": [
    "pa_so2.get_wavelengths()"
   ]
  },
  {
   "cell_type": "code",
   "execution_count": 5,
   "id": "7fdeea8e-79e9-4e89-b0d8-3b5abb0c48dc",
   "metadata": {},
   "outputs": [],
   "source": [
    "icg_df = pd.DataFrame({\"times\": np.concatenate([icg_times] * 3), \n",
    "                       \"ICG\": np.concatenate([get_trace(icg, r) for r in [roi_reference, roi_tumour_right, roi_tumour_left]]),\n",
    "                       \"Region\": [\"Spine\"] * len(icg_times) + [\"Right Tumour\"] * len(icg_times) + [\"Left Tumour\"] * len(icg_times)\n",
    "                      })\n",
    "\n",
    "\n",
    "so2_df = pd.DataFrame({\"times\": np.concatenate([times] * 3), \n",
    "                       \"SO2\": np.concatenate([get_trace(so2, r, True) for r in [roi_reference, roi_tumour_right, roi_tumour_left]]),\n",
    "                       \"Region\": [\"Spine\"] * len(times) + [\"Right Tumour\"] * len(times) + [\"Left Tumour\"] * len(times)\n",
    "                      })\n",
    "\n",
    "im_recon = rec.imshow()\n",
    "im_dso2 = dso2.imshow(roi_mask=[roi_reference, roi_tumour_right, roi_tumour_left])\n",
    "im_dicg = dicg.imshow(roi_mask=[roi_reference, roi_tumour_right, roi_tumour_left])\n",
    "plt.close()"
   ]
  },
  {
   "cell_type": "code",
   "execution_count": 6,
   "id": "79bacd4d-9908-4e76-b23c-3c71cadc228b",
   "metadata": {},
   "outputs": [],
   "source": [
    "dso2_array = im_dso2.get_array().data\n",
    "iqr = np.nanpercentile(dso2_array, 75) - np.nanpercentile(dso2_array, 25)\n",
    "med = np.nanmedian(dso2_array)\n",
    "dso2_array[dso2_array > med + 3 * iqr] = np.nan\n",
    "dso2_array[dso2_array < med - 3 * iqr] = np.nan\n",
    "\n",
    "dicg_array = im_dicg.get_array().data\n",
    "iqr = np.nanpercentile(dicg_array, 75) - np.nanpercentile(dicg_array, 25)\n",
    "med = np.nanmedian(dicg_array)\n",
    "dicg_array[dicg_array > med + 6 * iqr] = np.nan\n",
    "dicg_array[dicg_array < med - 6 * iqr] = np.nan\n",
    "\n",
    "rec_array = im_recon.get_array().data"
   ]
  },
  {
   "cell_type": "code",
   "execution_count": 7,
   "id": "7cb1efa6-5bbb-4e04-b97c-863a91bdbe33",
   "metadata": {},
   "outputs": [
    {
     "data": {
      "text/html": [
       "<div>\n",
       "<style scoped>\n",
       "    .dataframe tbody tr th:only-of-type {\n",
       "        vertical-align: middle;\n",
       "    }\n",
       "\n",
       "    .dataframe tbody tr th {\n",
       "        vertical-align: top;\n",
       "    }\n",
       "\n",
       "    .dataframe thead th {\n",
       "        text-align: right;\n",
       "    }\n",
       "</style>\n",
       "<table border=\"1\" class=\"dataframe\">\n",
       "  <thead>\n",
       "    <tr style=\"text-align: right;\">\n",
       "      <th></th>\n",
       "      <th>dicg</th>\n",
       "      <th>dso2</th>\n",
       "      <th>Region</th>\n",
       "    </tr>\n",
       "  </thead>\n",
       "  <tbody>\n",
       "    <tr>\n",
       "      <th>0</th>\n",
       "      <td>0.311121</td>\n",
       "      <td>0.060318</td>\n",
       "      <td>Reference</td>\n",
       "    </tr>\n",
       "    <tr>\n",
       "      <th>1</th>\n",
       "      <td>0.342048</td>\n",
       "      <td>0.066264</td>\n",
       "      <td>Reference</td>\n",
       "    </tr>\n",
       "    <tr>\n",
       "      <th>2</th>\n",
       "      <td>0.303935</td>\n",
       "      <td>0.055998</td>\n",
       "      <td>Reference</td>\n",
       "    </tr>\n",
       "    <tr>\n",
       "      <th>3</th>\n",
       "      <td>0.379399</td>\n",
       "      <td>0.078032</td>\n",
       "      <td>Reference</td>\n",
       "    </tr>\n",
       "    <tr>\n",
       "      <th>4</th>\n",
       "      <td>0.415269</td>\n",
       "      <td>0.081478</td>\n",
       "      <td>Reference</td>\n",
       "    </tr>\n",
       "    <tr>\n",
       "      <th>...</th>\n",
       "      <td>...</td>\n",
       "      <td>...</td>\n",
       "      <td>...</td>\n",
       "    </tr>\n",
       "    <tr>\n",
       "      <th>1950</th>\n",
       "      <td>0.248291</td>\n",
       "      <td>0.049637</td>\n",
       "      <td>Left Tumour</td>\n",
       "    </tr>\n",
       "    <tr>\n",
       "      <th>1951</th>\n",
       "      <td>0.159100</td>\n",
       "      <td>0.032974</td>\n",
       "      <td>Left Tumour</td>\n",
       "    </tr>\n",
       "    <tr>\n",
       "      <th>1952</th>\n",
       "      <td>0.190295</td>\n",
       "      <td>0.036675</td>\n",
       "      <td>Left Tumour</td>\n",
       "    </tr>\n",
       "    <tr>\n",
       "      <th>1953</th>\n",
       "      <td>0.216423</td>\n",
       "      <td>0.043448</td>\n",
       "      <td>Left Tumour</td>\n",
       "    </tr>\n",
       "    <tr>\n",
       "      <th>1954</th>\n",
       "      <td>0.222809</td>\n",
       "      <td>0.047296</td>\n",
       "      <td>Left Tumour</td>\n",
       "    </tr>\n",
       "  </tbody>\n",
       "</table>\n",
       "<p>1955 rows × 3 columns</p>\n",
       "</div>"
      ],
      "text/plain": [
       "          dicg      dso2       Region\n",
       "0     0.311121  0.060318    Reference\n",
       "1     0.342048  0.066264    Reference\n",
       "2     0.303935  0.055998    Reference\n",
       "3     0.379399  0.078032    Reference\n",
       "4     0.415269  0.081478    Reference\n",
       "...        ...       ...          ...\n",
       "1950  0.248291  0.049637  Left Tumour\n",
       "1951  0.159100  0.032974  Left Tumour\n",
       "1952  0.190295  0.036675  Left Tumour\n",
       "1953  0.216423  0.043448  Left Tumour\n",
       "1954  0.222809  0.047296  Left Tumour\n",
       "\n",
       "[1955 rows x 3 columns]"
      ]
     },
     "execution_count": 7,
     "metadata": {},
     "output_type": "execute_result"
    }
   ],
   "source": [
    "dicgs = [get_pixel_values(dicg, r) for r in [roi_reference, roi_tumour_right, roi_tumour_left]]\n",
    "dso2s = [get_pixel_values(dso2, r, True) for r in [roi_reference, roi_tumour_right, roi_tumour_left]]\n",
    "\n",
    "compare_df = pd.DataFrame({\"dicg\": np.concatenate(dicgs), \n",
    "                           \"dso2\": np.concatenate(dso2s),\n",
    "                           \"Region\": sum([[s] * len(j) for s, j in zip([\"Reference\", \"Right Tumour\", \"Left Tumour\"], dso2s)], start=[])\n",
    "                      })\n",
    "\n",
    "compare_df"
   ]
  },
  {
   "cell_type": "code",
   "execution_count": 8,
   "id": "7972dff5-6283-4eb9-ba72-3907f9b33ae1",
   "metadata": {},
   "outputs": [
    {
     "name": "stdout",
     "output_type": "stream",
     "text": [
      "Downloading https://www.repository.cam.ac.uk/bitstream/handle/1810/345836/clinical_phantom.hdf5?sequence=8&isAllowed=y to /Users/else01/patato_example_data/clinical-msot-data.hdf5... Might take a while.\n"
     ]
    },
    {
     "data": {
      "application/vnd.jupyter.widget-view+json": {
       "model_id": "93245547988e46b8b2cbc3ed8d93efcf",
       "version_major": 2,
       "version_minor": 0
      },
      "text/plain": [
       "  0%|          | 0/788003578 [00:00<?, ?it/s]"
      ]
     },
     "metadata": {},
     "output_type": "display_data"
    },
    {
     "name": "stderr",
     "output_type": "stream",
     "text": [
      "/home/cri.camres.org/else01/patato/patato/core/image_structures/reconstruction_image.py:43: UserWarning: Old version of PATATO used to generate this data. We recommend to re-run the image reconstruction.\n",
      "  warnings.warn(\"Old version of PATATO used to generate this data. We recommend to re-run the image reconstruction.\")\n"
     ]
    },
    {
     "name": "stdout",
     "output_type": "stream",
     "text": [
      "Downloading hhttps://www.repository.cam.ac.uk/bitstream/handle/1810/345836/preclinical_phantom.hdf5?sequence=3&isAllowed=y to /Users/else01/patato_example_data/preclinical-msot-data.hdf5... Might take a while.\n"
     ]
    },
    {
     "ename": "InvalidSchema",
     "evalue": "No connection adapters were found for 'hhttps://www.repository.cam.ac.uk/bitstream/handle/1810/345836/preclinical_phantom.hdf5?sequence=3&isAllowed=y'",
     "output_type": "error",
     "traceback": [
      "\u001b[0;31m---------------------------------------------------------------------------\u001b[0m",
      "\u001b[0;31mInvalidSchema\u001b[0m                             Traceback (most recent call last)",
      "Cell \u001b[0;32mIn[8], line 7\u001b[0m\n\u001b[1;32m      5\u001b[0m p_clinical \u001b[38;5;241m=\u001b[39m get_msot_phantom_example(\u001b[38;5;124m\"\u001b[39m\u001b[38;5;124mclinical\u001b[39m\u001b[38;5;124m\"\u001b[39m)[\u001b[38;5;241m4\u001b[39m:\u001b[38;5;241m5\u001b[39m]\n\u001b[1;32m      6\u001b[0m p_clinical\u001b[38;5;241m.\u001b[39mset_default_recon()\n\u001b[0;32m----> 7\u001b[0m p_preclinical \u001b[38;5;241m=\u001b[39m \u001b[43mget_msot_phantom_example\u001b[49m\u001b[43m(\u001b[49m\u001b[38;5;124;43m\"\u001b[39;49m\u001b[38;5;124;43mpreclinical\u001b[39;49m\u001b[38;5;124;43m\"\u001b[39;49m\u001b[43m)\u001b[49m\n\u001b[1;32m      8\u001b[0m p_preclinical\u001b[38;5;241m.\u001b[39mset_default_recon()\n",
      "File \u001b[0;32m/home/cri.camres.org/else01/patato/patato/data/get_example_datasets.py:103\u001b[0m, in \u001b[0;36mget_msot_phantom_example\u001b[0;34m(image_type)\u001b[0m\n\u001b[1;32m    100\u001b[0m     os\u001b[38;5;241m.\u001b[39mmkdir(folder)\n\u001b[1;32m    101\u001b[0m \u001b[38;5;28;01mif\u001b[39;00m \u001b[38;5;129;01mnot\u001b[39;00m os\u001b[38;5;241m.\u001b[39mpath\u001b[38;5;241m.\u001b[39mexists(data_path):\n\u001b[1;32m    102\u001b[0m     \u001b[38;5;66;03m# Download the data\u001b[39;00m\n\u001b[0;32m--> 103\u001b[0m     \u001b[43mdownload_file\u001b[49m\u001b[43m(\u001b[49m\u001b[43mdata_sources\u001b[49m\u001b[43m[\u001b[49m\u001b[43mimage_type\u001b[49m\u001b[43m]\u001b[49m\u001b[43m,\u001b[49m\u001b[43m \u001b[49m\u001b[43mdata_path\u001b[49m\u001b[43m)\u001b[49m\n\u001b[1;32m    104\u001b[0m \u001b[38;5;28;01mreturn\u001b[39;00m PAData\u001b[38;5;241m.\u001b[39mfrom_hdf5(data_path)\n",
      "File \u001b[0;32m/home/cri.camres.org/else01/patato/patato/data/get_example_datasets.py:30\u001b[0m, in \u001b[0;36mdownload_file\u001b[0;34m(file_from, file_to)\u001b[0m\n\u001b[1;32m     28\u001b[0m \u001b[38;5;28;01mdef\u001b[39;00m \u001b[38;5;21mdownload_file\u001b[39m(file_from, file_to):\n\u001b[1;32m     29\u001b[0m     \u001b[38;5;28mprint\u001b[39m(\u001b[38;5;124mf\u001b[39m\u001b[38;5;124m\"\u001b[39m\u001b[38;5;124mDownloading \u001b[39m\u001b[38;5;132;01m{\u001b[39;00mfile_from\u001b[38;5;132;01m}\u001b[39;00m\u001b[38;5;124m to \u001b[39m\u001b[38;5;132;01m{\u001b[39;00mfile_to\u001b[38;5;132;01m}\u001b[39;00m\u001b[38;5;124m... Might take a while.\u001b[39m\u001b[38;5;124m\"\u001b[39m)\n\u001b[0;32m---> 30\u001b[0m     \u001b[38;5;28;01mwith\u001b[39;00m \u001b[43mrequests\u001b[49m\u001b[38;5;241;43m.\u001b[39;49m\u001b[43mget\u001b[49m\u001b[43m(\u001b[49m\u001b[43mfile_from\u001b[49m\u001b[43m,\u001b[49m\u001b[43m \u001b[49m\u001b[43mstream\u001b[49m\u001b[38;5;241;43m=\u001b[39;49m\u001b[38;5;28;43;01mTrue\u001b[39;49;00m\u001b[43m)\u001b[49m \u001b[38;5;28;01mas\u001b[39;00m file_data:\n\u001b[1;32m     31\u001b[0m         \u001b[38;5;66;03m# Get the total file size\u001b[39;00m\n\u001b[1;32m     32\u001b[0m         total_length \u001b[38;5;241m=\u001b[39m \u001b[38;5;28mint\u001b[39m(file_data\u001b[38;5;241m.\u001b[39mheaders\u001b[38;5;241m.\u001b[39mget(\u001b[38;5;124m\"\u001b[39m\u001b[38;5;124mContent-Length\u001b[39m\u001b[38;5;124m\"\u001b[39m))\n\u001b[1;32m     33\u001b[0m         \u001b[38;5;66;03m# Download the file\u001b[39;00m\n",
      "File \u001b[0;32m~/anaconda3/envs/patato/lib/python3.9/site-packages/requests/api.py:73\u001b[0m, in \u001b[0;36mget\u001b[0;34m(url, params, **kwargs)\u001b[0m\n\u001b[1;32m     62\u001b[0m \u001b[38;5;28;01mdef\u001b[39;00m \u001b[38;5;21mget\u001b[39m(url, params\u001b[38;5;241m=\u001b[39m\u001b[38;5;28;01mNone\u001b[39;00m, \u001b[38;5;241m*\u001b[39m\u001b[38;5;241m*\u001b[39mkwargs):\n\u001b[1;32m     63\u001b[0m \u001b[38;5;250m    \u001b[39m\u001b[38;5;124mr\u001b[39m\u001b[38;5;124;03m\"\"\"Sends a GET request.\u001b[39;00m\n\u001b[1;32m     64\u001b[0m \n\u001b[1;32m     65\u001b[0m \u001b[38;5;124;03m    :param url: URL for the new :class:`Request` object.\u001b[39;00m\n\u001b[0;32m   (...)\u001b[0m\n\u001b[1;32m     70\u001b[0m \u001b[38;5;124;03m    :rtype: requests.Response\u001b[39;00m\n\u001b[1;32m     71\u001b[0m \u001b[38;5;124;03m    \"\"\"\u001b[39;00m\n\u001b[0;32m---> 73\u001b[0m     \u001b[38;5;28;01mreturn\u001b[39;00m \u001b[43mrequest\u001b[49m\u001b[43m(\u001b[49m\u001b[38;5;124;43m\"\u001b[39;49m\u001b[38;5;124;43mget\u001b[39;49m\u001b[38;5;124;43m\"\u001b[39;49m\u001b[43m,\u001b[49m\u001b[43m \u001b[49m\u001b[43murl\u001b[49m\u001b[43m,\u001b[49m\u001b[43m \u001b[49m\u001b[43mparams\u001b[49m\u001b[38;5;241;43m=\u001b[39;49m\u001b[43mparams\u001b[49m\u001b[43m,\u001b[49m\u001b[43m \u001b[49m\u001b[38;5;241;43m*\u001b[39;49m\u001b[38;5;241;43m*\u001b[39;49m\u001b[43mkwargs\u001b[49m\u001b[43m)\u001b[49m\n",
      "File \u001b[0;32m~/anaconda3/envs/patato/lib/python3.9/site-packages/requests/api.py:59\u001b[0m, in \u001b[0;36mrequest\u001b[0;34m(method, url, **kwargs)\u001b[0m\n\u001b[1;32m     55\u001b[0m \u001b[38;5;66;03m# By using the 'with' statement we are sure the session is closed, thus we\u001b[39;00m\n\u001b[1;32m     56\u001b[0m \u001b[38;5;66;03m# avoid leaving sockets open which can trigger a ResourceWarning in some\u001b[39;00m\n\u001b[1;32m     57\u001b[0m \u001b[38;5;66;03m# cases, and look like a memory leak in others.\u001b[39;00m\n\u001b[1;32m     58\u001b[0m \u001b[38;5;28;01mwith\u001b[39;00m sessions\u001b[38;5;241m.\u001b[39mSession() \u001b[38;5;28;01mas\u001b[39;00m session:\n\u001b[0;32m---> 59\u001b[0m     \u001b[38;5;28;01mreturn\u001b[39;00m \u001b[43msession\u001b[49m\u001b[38;5;241;43m.\u001b[39;49m\u001b[43mrequest\u001b[49m\u001b[43m(\u001b[49m\u001b[43mmethod\u001b[49m\u001b[38;5;241;43m=\u001b[39;49m\u001b[43mmethod\u001b[49m\u001b[43m,\u001b[49m\u001b[43m \u001b[49m\u001b[43murl\u001b[49m\u001b[38;5;241;43m=\u001b[39;49m\u001b[43murl\u001b[49m\u001b[43m,\u001b[49m\u001b[43m \u001b[49m\u001b[38;5;241;43m*\u001b[39;49m\u001b[38;5;241;43m*\u001b[39;49m\u001b[43mkwargs\u001b[49m\u001b[43m)\u001b[49m\n",
      "File \u001b[0;32m~/anaconda3/envs/patato/lib/python3.9/site-packages/requests/sessions.py:587\u001b[0m, in \u001b[0;36mSession.request\u001b[0;34m(self, method, url, params, data, headers, cookies, files, auth, timeout, allow_redirects, proxies, hooks, stream, verify, cert, json)\u001b[0m\n\u001b[1;32m    582\u001b[0m send_kwargs \u001b[38;5;241m=\u001b[39m {\n\u001b[1;32m    583\u001b[0m     \u001b[38;5;124m\"\u001b[39m\u001b[38;5;124mtimeout\u001b[39m\u001b[38;5;124m\"\u001b[39m: timeout,\n\u001b[1;32m    584\u001b[0m     \u001b[38;5;124m\"\u001b[39m\u001b[38;5;124mallow_redirects\u001b[39m\u001b[38;5;124m\"\u001b[39m: allow_redirects,\n\u001b[1;32m    585\u001b[0m }\n\u001b[1;32m    586\u001b[0m send_kwargs\u001b[38;5;241m.\u001b[39mupdate(settings)\n\u001b[0;32m--> 587\u001b[0m resp \u001b[38;5;241m=\u001b[39m \u001b[38;5;28;43mself\u001b[39;49m\u001b[38;5;241;43m.\u001b[39;49m\u001b[43msend\u001b[49m\u001b[43m(\u001b[49m\u001b[43mprep\u001b[49m\u001b[43m,\u001b[49m\u001b[43m \u001b[49m\u001b[38;5;241;43m*\u001b[39;49m\u001b[38;5;241;43m*\u001b[39;49m\u001b[43msend_kwargs\u001b[49m\u001b[43m)\u001b[49m\n\u001b[1;32m    589\u001b[0m \u001b[38;5;28;01mreturn\u001b[39;00m resp\n",
      "File \u001b[0;32m~/anaconda3/envs/patato/lib/python3.9/site-packages/requests/sessions.py:695\u001b[0m, in \u001b[0;36mSession.send\u001b[0;34m(self, request, **kwargs)\u001b[0m\n\u001b[1;32m    692\u001b[0m hooks \u001b[38;5;241m=\u001b[39m request\u001b[38;5;241m.\u001b[39mhooks\n\u001b[1;32m    694\u001b[0m \u001b[38;5;66;03m# Get the appropriate adapter to use\u001b[39;00m\n\u001b[0;32m--> 695\u001b[0m adapter \u001b[38;5;241m=\u001b[39m \u001b[38;5;28;43mself\u001b[39;49m\u001b[38;5;241;43m.\u001b[39;49m\u001b[43mget_adapter\u001b[49m\u001b[43m(\u001b[49m\u001b[43murl\u001b[49m\u001b[38;5;241;43m=\u001b[39;49m\u001b[43mrequest\u001b[49m\u001b[38;5;241;43m.\u001b[39;49m\u001b[43murl\u001b[49m\u001b[43m)\u001b[49m\n\u001b[1;32m    697\u001b[0m \u001b[38;5;66;03m# Start time (approximately) of the request\u001b[39;00m\n\u001b[1;32m    698\u001b[0m start \u001b[38;5;241m=\u001b[39m preferred_clock()\n",
      "File \u001b[0;32m~/anaconda3/envs/patato/lib/python3.9/site-packages/requests/sessions.py:792\u001b[0m, in \u001b[0;36mSession.get_adapter\u001b[0;34m(self, url)\u001b[0m\n\u001b[1;32m    789\u001b[0m         \u001b[38;5;28;01mreturn\u001b[39;00m adapter\n\u001b[1;32m    791\u001b[0m \u001b[38;5;66;03m# Nothing matches :-/\u001b[39;00m\n\u001b[0;32m--> 792\u001b[0m \u001b[38;5;28;01mraise\u001b[39;00m InvalidSchema(\u001b[38;5;124mf\u001b[39m\u001b[38;5;124m\"\u001b[39m\u001b[38;5;124mNo connection adapters were found for \u001b[39m\u001b[38;5;132;01m{\u001b[39;00murl\u001b[38;5;132;01m!r}\u001b[39;00m\u001b[38;5;124m\"\u001b[39m)\n",
      "\u001b[0;31mInvalidSchema\u001b[0m: No connection adapters were found for 'hhttps://www.repository.cam.ac.uk/bitstream/handle/1810/345836/preclinical_phantom.hdf5?sequence=3&isAllowed=y'"
     ]
    }
   ],
   "source": [
    "# Phantom figure:\n",
    "import matplotlib\n",
    "matplotlib.rc('font', family='Arial') \n",
    "\n",
    "p_clinical = get_msot_phantom_example(\"clinical\")[4:5]\n",
    "p_clinical.set_default_recon()\n",
    "p_preclinical = get_msot_phantom_example(\"preclinical\")\n",
    "p_preclinical.set_default_recon()"
   ]
  },
  {
   "cell_type": "code",
   "execution_count": null,
   "id": "bc5f1f3b-45c0-4c91-8162-e1d5f5b0de77",
   "metadata": {},
   "outputs": [],
   "source": [
    "inch = 2.54\n",
    "fig, (ax1, ax2) = plt.subplots(1, 2, figsize=(13.5 / inch, 7.5 / inch))\n",
    "r = p_clinical.get_scan_reconstructions()[:, 20:31]\n",
    "ax1.set_title(\"Clinical Phantom\", fontsize=8)\n",
    "print(p_clinical.get_wavelengths()[20])\n",
    "r.imshow(ax=ax1)\n",
    "\n",
    "r = p_preclinical.get_scan_reconstructions()[:, 18:31]\n",
    "print(p_preclinical.get_wavelengths()[18])\n",
    "ax2.set_title(\"Preclinical Phantom\", fontsize=8)\n",
    "r.imshow(ax=ax2)\n",
    "fig.subplots_adjust(left=0, right=1, bottom=0, hspace=0.005, wspace=0.05)\n",
    "plt.savefig(\"test_figure.pdf\")\n",
    "plt.savefig(\"test_figure.png\", dpi=300)\n",
    "plt.show()"
   ]
  },
  {
   "cell_type": "code",
   "execution_count": null,
   "id": "908e42ae-bce6-494f-9b0a-ccccfd8a1333",
   "metadata": {},
   "outputs": [],
   "source": [
    "p_preclinical.get_scan_datetime()"
   ]
  },
  {
   "cell_type": "code",
   "execution_count": null,
   "id": "6ed3f268-3623-4c8e-98fb-2834d09ad1ab",
   "metadata": {},
   "outputs": [],
   "source": []
  }
 ],
 "metadata": {
  "kernelspec": {
   "display_name": "Python 3 (ipykernel)",
   "language": "python",
   "name": "python3"
  },
  "language_info": {
   "codemirror_mode": {
    "name": "ipython",
    "version": 3
   },
   "file_extension": ".py",
   "mimetype": "text/x-python",
   "name": "python",
   "nbconvert_exporter": "python",
   "pygments_lexer": "ipython3",
   "version": "3.9.0"
  }
 },
 "nbformat": 4,
 "nbformat_minor": 5
}
