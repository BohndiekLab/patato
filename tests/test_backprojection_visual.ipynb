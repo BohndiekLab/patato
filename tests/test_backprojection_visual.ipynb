{
 "cells": [
  {
   "cell_type": "code",
   "execution_count": 1,
   "id": "34087661-f50b-4fdd-9a1e-85a506673877",
   "metadata": {},
   "outputs": [],
   "source": [
    "import os\n",
    "os.environ[\"PAT_MAXIMUM_BATCH_SIZE\"] = \"5\"\n",
    "\n",
    "import unittest\n",
    "\n",
    "from os.path import join\n",
    "\n",
    "import numpy as np\n",
    "from matplotlib import pyplot as plt\n",
    "\n",
    "import patato.data\n",
    "from patato.data import get_msot_time_series_example\n",
    "from patato.io.msot_data import PAData\n",
    "from patato.processing.preprocessing_algorithm import DefaultMSOTPreProcessor\n",
    "from patato.recon import OpenCLBackprojection\n",
    "from patato.recon.backprojection_reference import ReferenceBackprojection"
   ]
  },
  {
   "cell_type": "code",
   "execution_count": 2,
   "id": "cb842d27-da3f-466e-b7e9-00b9d399de9a",
   "metadata": {},
   "outputs": [],
   "source": [
    "class BackprojectionTest(unittest.TestCase):\n",
    "    def setUp(self) -> None:\n",
    "        self.pa = get_msot_time_series_example(\"so2\")[0:1, 0:1]\n",
    "\n",
    "        self.preproc = DefaultMSOTPreProcessor(time_factor=1, detector_factor=2)\n",
    "        self.filtered_time_series, self.new_settings, _ = self.preproc.run(self.pa.get_time_series(), self.pa)\n",
    "\n",
    "    def _test_backprojector(self, reconstructor_class):\n",
    "        reconstructor = reconstructor_class([333, 334, 1], [0.025, 0.025, 1.])\n",
    "        r, _, _ = reconstructor.run(self.filtered_time_series, self.pa, **self.new_settings)\n",
    "        self.assertEqual(r.shape, (1, 1, 1, 334, 333))\n",
    "        self.assertAlmostEqual(np.mean(r.values), 315.78, 2)\n",
    "        \n",
    "        reconstructor = reconstructor_class([1, 333, 334], [1., 0.025, 0.025])\n",
    "        r, _, _ = reconstructor.run(self.filtered_time_series, self.pa, **self.new_settings)\n",
    "        self.assertEqual(r.shape, (1, 1, 334, 333, 1))\n",
    "        \n",
    "        reconstructor = reconstructor_class([334, 1, 333], [0.025, 1., 0.025])\n",
    "        r, _, _ = reconstructor.run(self.filtered_time_series, self.pa, **self.new_settings)\n",
    "        self.assertEqual(r.shape, (1, 1, 333, 1, 334))\n",
    "        \n",
    "    \n",
    "    def test_reference_reconstruction(self):\n",
    "        self._test_backprojector(ReferenceBackprojection)\n",
    "        \n",
    "\n",
    "    def test_opencl_reconstruction(self):\n",
    "        try:\n",
    "            import pyopencl\n",
    "        except ImportError:\n",
    "            return  # Skip test if pyopencl is not installed\n",
    "        \n",
    "        self._test_backprojector(OpenCLBackprojection)"
   ]
  },
  {
   "cell_type": "code",
   "execution_count": 3,
   "id": "a6cd531f-67f5-4dbc-a8e7-41da0860064c",
   "metadata": {},
   "outputs": [
    {
     "name": "stderr",
     "output_type": "stream",
     "text": [
      "/Users/else01/Documents/Code Development/patato/patato/core/image_structures/reconstruction_image.py:43: UserWarning: Old version of PATATO used to generate this data. We recommend to re-run the image reconstruction.\n",
      "  warnings.warn(\"Old version of PATATO used to generate this data. We recommend to re-run the image reconstruction.\")\n"
     ]
    }
   ],
   "source": [
    "t = BackprojectionTest()\n",
    "t.setUp()\n",
    "t.test_opencl_reconstruction()\n",
    "t.test_reference_reconstruction()"
   ]
  },
  {
   "cell_type": "code",
   "execution_count": null,
   "id": "3977520a-f7f1-4472-81bb-52a8641efa51",
   "metadata": {},
   "outputs": [],
   "source": []
  }
 ],
 "metadata": {
  "kernelspec": {
   "display_name": "Python 3 (ipykernel)",
   "language": "python",
   "name": "python3"
  },
  "language_info": {
   "codemirror_mode": {
    "name": "ipython",
    "version": 3
   },
   "file_extension": ".py",
   "mimetype": "text/x-python",
   "name": "python",
   "nbconvert_exporter": "python",
   "pygments_lexer": "ipython3",
   "version": "3.9.15"
  }
 },
 "nbformat": 4,
 "nbformat_minor": 5
}
